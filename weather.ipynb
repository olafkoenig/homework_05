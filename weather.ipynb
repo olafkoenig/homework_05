{
 "cells": [
  {
   "cell_type": "markdown",
   "id": "62ed1a38",
   "metadata": {},
   "source": [
    "# Weather"
   ]
  },
  {
   "cell_type": "markdown",
   "id": "6a486570",
   "metadata": {},
   "source": [
    "- Depending on the service you pick, you might not be able to answer all of the questions\n",
    "- You might have figure out workarounds to get answer\n",
    "- Compared to Weather API, these APIs might be either more or less difficult"
   ]
  },
  {
   "cell_type": "markdown",
   "id": "9eeb1d9a",
   "metadata": {},
   "source": [
    "1. Examine both Open Meteo and Tomorrow and decide which one you'd prefer to use. What drove your decision?\n",
    "\n",
    "2. What is the URL to the documentation? (You don't use code for this one)\n",
    "\n",
    "3. Make a request for the current weather where you are born, or somewhere you've lived.\n",
    "\n",
    "4. Print out the country this location is in.\n",
    "\n",
    "5. Print out the difference between the current temperature and how warm it feels. Use \"It feels ___ degrees colder\" or \"It feels ___ degrees warmer,\" not negative numbers.\n",
    "\n",
    "6. What's the current temperature at Heathrow International Airport? Use the airport's IATA code to search.\n",
    "\n",
    "7. What URL would I use to request a 3-day forecast at Heathrow?\n",
    "\n",
    "8. Print the date of each of the 3 days you're getting a forecast for.\n",
    "\n",
    "9. Print the maximum temperature of each of the days.\n",
    "\n",
    "10. Print only the day with the highest maximum temperature.\n",
    "\n",
    "11. Did you find this easier or more difficult than using the weatherapi.com, and why? Which would you recommend to someone interesting in building a tool around weather information?\n"
   ]
  },
  {
   "cell_type": "markdown",
   "id": "e7b1a3f3",
   "metadata": {},
   "source": []
  },
  {
   "cell_type": "markdown",
   "id": "8a4c02d3",
   "metadata": {},
   "source": []
  },
  {
   "cell_type": "code",
   "execution_count": 27,
   "id": "b7a611f6",
   "metadata": {},
   "outputs": [
    {
     "name": "stdout",
     "output_type": "stream",
     "text": [
      "{   'data': {   'time': '2025-06-09T21:01:00Z',\n",
      "                'values': {   'cloudBase': 3.9,\n",
      "                              'cloudCeiling': None,\n",
      "                              'cloudCover': 80,\n",
      "                              'dewPoint': 9.2,\n",
      "                              'freezingRainIntensity': 0,\n",
      "                              'humidity': 72,\n",
      "                              'precipitationProbability': 0,\n",
      "                              'pressureSeaLevel': 1022.19,\n",
      "                              'pressureSurfaceLevel': 1016.84,\n",
      "                              'rainIntensity': 0,\n",
      "                              'sleetIntensity': 0,\n",
      "                              'snowIntensity': 0,\n",
      "                              'temperature': 14.2,\n",
      "                              'temperatureApparent': 14.2,\n",
      "                              'uvHealthConcern': 0,\n",
      "                              'uvIndex': 0,\n",
      "                              'visibility': 16,\n",
      "                              'weatherCode': 1001,\n",
      "                              'windDirection': 230,\n",
      "                              'windGust': 3.3,\n",
      "                              'windSpeed': 1.7}},\n",
      "    'location': {   'lat': 52.51088333129883,\n",
      "                    'lon': 13.39893627166748,\n",
      "                    'name': 'Berlin, Deutschland',\n",
      "                    'type': 'administrative'}}\n"
     ]
    }
   ],
   "source": [
    "API_KEY = \"AajE6exHlZ6XZv50I2O4xwWFb9V1GRrd\"\n",
    "\n",
    "city = \"berlin\"\n",
    "\n",
    "import requests\n",
    "from pprint import pprint\n",
    "\n",
    "url = f\"https://api.tomorrow.io/v4/weather/realtime?location={city}&apikey={API_KEY}\"\n",
    "\n",
    "headers = {\n",
    "    \"accept\": \"application/json\"\n",
    "}\n",
    "\n",
    "response = requests.get(url, headers=headers)\n",
    "\n",
    "data_location = response.json()\n",
    "\n",
    "\n",
    "pprint(data_location, indent=4, width=120)"
   ]
  },
  {
   "cell_type": "code",
   "execution_count": 32,
   "id": "c0d76871",
   "metadata": {},
   "outputs": [
    {
     "name": "stdout",
     "output_type": "stream",
     "text": [
      "The location is in 'Deutschland'.\n"
     ]
    }
   ],
   "source": [
    "location_name = data_location[\"location\"][\"name\"]\n",
    "# Découper la chaîne en utilisant la virgule comme séparateur\n",
    "location_parts = [part.strip() for part in location_name.split(\",\")]\n",
    "\n",
    "# Le pays est généralement le dernier élément\n",
    "country = location_parts[-1]\n",
    "print(f\"The location is in '{country}'.\")"
   ]
  },
  {
   "cell_type": "code",
   "execution_count": null,
   "id": "7d52ef50",
   "metadata": {},
   "outputs": [
    {
     "name": "stdout",
     "output_type": "stream",
     "text": [
      "It feels exactly the same as the actual temperature.\n"
     ]
    }
   ],
   "source": [
    "# print(data_location['data']['values'])\n",
    "\n",
    "location_temp_real = data_location['data']['values']['temperature']\n",
    "location_temp_feel = data_location['data']['values']['temperatureApparent']\n",
    "location_temp_diff = location_temp_feel - location_temp_real\n",
    "\n",
    "if location_temp_diff == 0:\n",
    "    print(\"It feels exactly the same as the actual temperature.\")\n",
    "elif location_temp_diff > 0:\n",
    "    print(f\"It feels {abs(location_temp_diff):.1f} degrees colder.\")\n",
    "else:\n",
    "    print(f\"It feels {abs(location_temp_diff):.1f} degrees warmer.\")\n"
   ]
  },
  {
   "cell_type": "code",
   "execution_count": 100,
   "id": "3a6d5df9",
   "metadata": {},
   "outputs": [
    {
     "name": "stdout",
     "output_type": "stream",
     "text": [
      "{   'data': {   'time': '2025-06-09T22:14:00Z',\n",
      "                'values': {   'cloudBase': 1.1,\n",
      "                              'cloudCeiling': 6.2,\n",
      "                              'cloudCover': 100,\n",
      "                              'dewPoint': 10.2,\n",
      "                              'freezingRainIntensity': 0,\n",
      "                              'humidity': 76,\n",
      "                              'precipitationProbability': 0,\n",
      "                              'pressureSeaLevel': 1018.43,\n",
      "                              'pressureSurfaceLevel': 1015.84,\n",
      "                              'rainIntensity': 0,\n",
      "                              'sleetIntensity': 0,\n",
      "                              'snowIntensity': 0,\n",
      "                              'temperature': 14.5,\n",
      "                              'temperatureApparent': 14.5,\n",
      "                              'uvHealthConcern': 0,\n",
      "                              'uvIndex': 0,\n",
      "                              'visibility': 16,\n",
      "                              'weatherCode': 1001,\n",
      "                              'windDirection': 226,\n",
      "                              'windGust': 7.8,\n",
      "                              'windSpeed': 3.8}},\n",
      "    'location': {   'lat': 51.46773910522461,\n",
      "                    'lon': -0.45878008008003235,\n",
      "                    'name': 'London Heathrow Airport, Northern Perimeter Road, London Borough of Hillingdon, London, '\n",
      "                            'Greater London, England, TW6 2RN, United Kingdom',\n",
      "                    'type': 'aerodrome'}}\n",
      "The temperature at the Heathrow International Airport is 14.5°c.\n"
     ]
    }
   ],
   "source": [
    "# Heathrow International Airport LHR\n",
    "\n",
    "airport = \"heathrow-airport\"\n",
    "\n",
    "import requests\n",
    "from pprint import pprint\n",
    "\n",
    "url = f\"https://api.tomorrow.io/v4/weather/realtime?location={airport}&apikey={API_KEY}\"\n",
    "\n",
    "headers = {\n",
    "    \"accept\": \"application/json\"\n",
    "}\n",
    "\n",
    "response = requests.get(url, headers=headers)\n",
    "\n",
    "data_airport = response.json()\n",
    "\n",
    "data_airport_temp = data_airport['data']['values']['temperature']\n",
    "pprint(data_airport, indent=4, width=120)\n",
    "print(f\"The temperature at the Heathrow International Airport is {data_airport_temp:.1f}°c.\")"
   ]
  },
  {
   "cell_type": "code",
   "execution_count": 52,
   "id": "05f290c2",
   "metadata": {},
   "outputs": [],
   "source": [
    "# Forecasts\n",
    "\n",
    "import requests\n",
    "\n",
    "url = f\"https://api.tomorrow.io/v4/weather/forecast?location={city}&apikey={API_KEY}\"\n",
    "\n",
    "headers = {\n",
    "    \"accept\": \"application/json\",\n",
    "    \"accept-encoding\": \"deflate, gzip, br\"\n",
    "}\n",
    "\n",
    "response = requests.get(url, headers=headers)\n",
    "data_location = response.json()\n"
   ]
  },
  {
   "cell_type": "code",
   "execution_count": 101,
   "id": "5514fe44",
   "metadata": {},
   "outputs": [],
   "source": [
    "# pprint(data_location, indent=4,  width=120)\n",
    "# print(data_location)\n",
    "\n"
   ]
  },
  {
   "cell_type": "code",
   "execution_count": 61,
   "id": "f12da134",
   "metadata": {},
   "outputs": [
    {
     "name": "stdout",
     "output_type": "stream",
     "text": [
      "{'time': '2025-06-09T04:00:00Z',\n",
      " 'values': {'cloudBaseAvg': 2,\n",
      "            'cloudBaseMax': 7,\n",
      "            'cloudBaseMin': 0.3,\n",
      "            'cloudCeilingAvg': 2.2,\n",
      "            'cloudCeilingMax': 8.9,\n",
      "            'cloudCeilingMin': 0,\n",
      "            'cloudCoverAvg': 66,\n",
      "            'cloudCoverMax': 100,\n",
      "            'cloudCoverMin': 9,\n",
      "            'dewPointAvg': 8.4,\n",
      "            'dewPointMax': 9.4,\n",
      "            'dewPointMin': 7.3,\n",
      "            'evapotranspirationAvg': 0.181,\n",
      "            'evapotranspirationMax': 0.385,\n",
      "            'evapotranspirationMin': 0.016,\n",
      "            'evapotranspirationSum': 4.338,\n",
      "            'freezingRainIntensityAvg': 0,\n",
      "            'freezingRainIntensityMax': 0,\n",
      "            'freezingRainIntensityMin': 0,\n",
      "            'humidityAvg': 68,\n",
      "            'humidityMax': 87,\n",
      "            'humidityMin': 51,\n",
      "            'iceAccumulationAvg': 0,\n",
      "            'iceAccumulationLweAvg': 0,\n",
      "            'iceAccumulationLweMax': 0,\n",
      "            'iceAccumulationLweMin': 0,\n",
      "            'iceAccumulationLweSum': 0,\n",
      "            'iceAccumulationMax': 0,\n",
      "            'iceAccumulationMin': 0,\n",
      "            'iceAccumulationSum': 0,\n",
      "            'moonriseTime': '2025-06-09T18:13:43Z',\n",
      "            'moonsetTime': '2025-06-09T01:03:46Z',\n",
      "            'precipitationProbabilityAvg': 0,\n",
      "            'precipitationProbabilityMax': 0,\n",
      "            'precipitationProbabilityMin': 0,\n",
      "            'pressureSeaLevelAvg': 1020.99,\n",
      "            'pressureSeaLevelMax': 1022.28,\n",
      "            'pressureSeaLevelMin': 1018.22,\n",
      "            'pressureSurfaceLevelAvg': 1015.24,\n",
      "            'pressureSurfaceLevelMax': 1017.04,\n",
      "            'pressureSurfaceLevelMin': 1011.32,\n",
      "            'rainAccumulationAvg': 0,\n",
      "            'rainAccumulationMax': 0,\n",
      "            'rainAccumulationMin': 0,\n",
      "            'rainAccumulationSum': 0,\n",
      "            'rainIntensityAvg': 0,\n",
      "            'rainIntensityMax': 0,\n",
      "            'rainIntensityMin': 0,\n",
      "            'sleetAccumulationAvg': 0,\n",
      "            'sleetAccumulationLweAvg': 0,\n",
      "            'sleetAccumulationLweMax': 0,\n",
      "            'sleetAccumulationLweMin': 0,\n",
      "            'sleetAccumulationLweSum': 0,\n",
      "            'sleetAccumulationMax': 0,\n",
      "            'sleetAccumulationMin': 0,\n",
      "            'sleetIntensityAvg': 0,\n",
      "            'sleetIntensityMax': 0,\n",
      "            'sleetIntensityMin': 0,\n",
      "            'snowAccumulationAvg': 0,\n",
      "            'snowAccumulationLweAvg': 0,\n",
      "            'snowAccumulationLweMax': 0,\n",
      "            'snowAccumulationLweMin': 0,\n",
      "            'snowAccumulationLweSum': 0,\n",
      "            'snowAccumulationMax': 0,\n",
      "            'snowAccumulationMin': 0,\n",
      "            'snowAccumulationSum': 0,\n",
      "            'snowIntensityAvg': 0,\n",
      "            'snowIntensityMax': 0,\n",
      "            'snowIntensityMin': 0,\n",
      "            'sunriseTime': '2025-06-09T03:08:00Z',\n",
      "            'sunsetTime': '2025-06-09T19:03:00Z',\n",
      "            'temperatureApparentAvg': 14.4,\n",
      "            'temperatureApparentMax': 18.3,\n",
      "            'temperatureApparentMin': 10.7,\n",
      "            'temperatureAvg': 14.4,\n",
      "            'temperatureMax': 18.3,\n",
      "            'temperatureMin': 10.7,\n",
      "            'uvHealthConcernAvg': 0,\n",
      "            'uvHealthConcernMax': 1,\n",
      "            'uvHealthConcernMin': 0,\n",
      "            'uvIndexAvg': 1,\n",
      "            'uvIndexMax': 4,\n",
      "            'uvIndexMin': 0,\n",
      "            'visibilityAvg': 15.71,\n",
      "            'visibilityMax': 16,\n",
      "            'visibilityMin': 9.07,\n",
      "            'weatherCodeMax': 1001,\n",
      "            'weatherCodeMin': 1001,\n",
      "            'windDirectionAvg': 249,\n",
      "            'windGustAvg': 6.9,\n",
      "            'windGustMax': 13.7,\n",
      "            'windGustMin': 1.3,\n",
      "            'windSpeedAvg': 3.1,\n",
      "            'windSpeedMax': 5.5,\n",
      "            'windSpeedMin': 0.5}}\n"
     ]
    }
   ],
   "source": [
    "pprint(data_location['timelines']['daily'][0])"
   ]
  },
  {
   "cell_type": "code",
   "execution_count": 102,
   "id": "5a775c5a",
   "metadata": {},
   "outputs": [
    {
     "name": "stdout",
     "output_type": "stream",
     "text": [
      "The 3 next days of forecasts: \n",
      "['2025-06-09', '2025-06-10', '2025-06-11']\n"
     ]
    }
   ],
   "source": [
    "forecasts_day = []\n",
    "\n",
    "for day in data_location['timelines']['daily']:\n",
    "    date = day['time']\n",
    "    forecasts_day.append(date)\n",
    "\n",
    "\n",
    "from datetime import datetime\n",
    "dates_only = []\n",
    "for day in forecasts_day:\n",
    "    day_clean = day.replace(\"Z\", \"\")\n",
    "    day_obj = datetime.fromisoformat(day_clean)\n",
    "    dates_only.append(day_obj.date().isoformat())\n",
    "\n",
    "\n",
    "dates_only = dates_only[:3]\n",
    "print(f\"The 3 next days of forecasts: \\n{dates_only}\")"
   ]
  },
  {
   "cell_type": "code",
   "execution_count": 87,
   "id": "1c61b820",
   "metadata": {},
   "outputs": [],
   "source": [
    "forecasts_day_temp = {}\n",
    "\n",
    "for day in data_location['timelines']['daily']:\n",
    "    date_raw = day['time']\n",
    "    date_edit = date_raw.replace(\"Z\", \"\")\n",
    "    date_final = datetime.fromisoformat(date_edit).date().isoformat()\n",
    "\n",
    "    temp = day['values']['temperatureMax']\n",
    "    forecasts_day_temp[date_final] = temp\n"
   ]
  },
  {
   "cell_type": "code",
   "execution_count": 88,
   "id": "cce57965",
   "metadata": {},
   "outputs": [
    {
     "name": "stdout",
     "output_type": "stream",
     "text": [
      "The maximum temperatures of each days of the forecasts: \n",
      "{'2025-06-09': 18.3, '2025-06-10': 17.2, '2025-06-11': 20.1, '2025-06-12': 22.7, '2025-06-13': 25, '2025-06-14': 28.6}\n"
     ]
    }
   ],
   "source": [
    "print(f\"The maximum temperatures of each days of the forecasts: \\n{forecasts_day_temp}\")"
   ]
  },
  {
   "cell_type": "code",
   "execution_count": 95,
   "id": "70a22e50",
   "metadata": {},
   "outputs": [
    {
     "name": "stdout",
     "output_type": "stream",
     "text": [
      "2025-06-14 had the maximum temperature with 28.6 °C\n"
     ]
    }
   ],
   "source": [
    "sorted_forecasts = sorted(forecasts_day_temp.items(), key=lambda item: item[1])\n",
    "# print(sorted_forecasts)\n",
    "\n",
    "day_max_temp = sorted_forecasts[-1]\n",
    "print(f\"{day_max_temp[0]} had the maximum temperature with {day_max_temp[1]} °C\")\n"
   ]
  },
  {
   "cell_type": "markdown",
   "id": "f54d62e2",
   "metadata": {},
   "source": [
    "The weatherapi.com is easier to use than tomorrow.io:\n",
    "- location includes a english version of country\n",
    "- IATA Airport support"
   ]
  },
  {
   "cell_type": "code",
   "execution_count": 89,
   "id": "21beb2ca",
   "metadata": {},
   "outputs": [
    {
     "name": "stdout",
     "output_type": "stream",
     "text": [
      "{'2025-06-09': 18.3, '2025-06-10': 17.2, '2025-06-11': 20.1, '2025-06-12': 22.7, '2025-06-13': 25, '2025-06-14': 28.6}\n"
     ]
    }
   ],
   "source": [
    "print(forecasts_day_temp)"
   ]
  }
 ],
 "metadata": {
  "kernelspec": {
   "display_name": "Python 3",
   "language": "python",
   "name": "python3"
  },
  "language_info": {
   "codemirror_mode": {
    "name": "ipython",
    "version": 3
   },
   "file_extension": ".py",
   "mimetype": "text/x-python",
   "name": "python",
   "nbconvert_exporter": "python",
   "pygments_lexer": "ipython3",
   "version": "3.12.2"
  }
 },
 "nbformat": 4,
 "nbformat_minor": 5
}
